{
 "cells": [
  {
   "cell_type": "markdown",
   "metadata": {},
   "source": [
    "# Computer Lab 2, Part I"
   ]
  },
  {
   "cell_type": "markdown",
   "metadata": {},
   "source": [
    "This notebook consists of instructions, exercises and questions that form the practical part of Lab II, Part I.\n",
    "In this assignment, you will learn the basics of the OpenStack Python APIs that can be used to interact directly with\n",
    "the IaaS services Keystone (Identity), Glance (Image) and Nova (compute). Please prepare your solution and answers to\n",
    "questions directly in this notebook, and export it to PDF. Upload that PDF as to the student portal to complete Part I\n",
    "of the Lab."
   ]
  },
  {
   "cell_type": "markdown",
   "metadata": {},
   "source": [
    "## Task - 1"
   ]
  },
  {
   "cell_type": "code",
   "execution_count": 1,
   "metadata": {},
   "outputs": [],
   "source": [
    "from os import environ as env\n",
    "import keystoneclient.v3.client as ksclient"
   ]
  },
  {
   "cell_type": "markdown",
   "metadata": {},
   "source": [
    "To establish a client connection, we will need to pass a dictionary with information about the tenant, user, credentials and the API Identity endpoint. Here, I have sourced the \"openrc.sh file\" obtained from the Horizon dashboard in the underlying shell prior to starting the notebook. Hence, in order to actually run the code below, you would need to do the same with your own credentials. "
   ]
  },
  {
   "cell_type": "code",
   "execution_count": 2,
   "metadata": {},
   "outputs": [],
   "source": [
    "keystone = ksclient.Client(auth_url=env['OS_AUTH_URL'],\n",
    "                           username=env['OS_USERNAME'],\n",
    "                           password=env['OS_PASSWORD'],\n",
    "                           project_name=env['OS_PROJECT_NAME'],\n",
    "                           project_domain_name=env['OS_USER_DOMAIN_NAME'],\n",
    "                           project_id=env['OS_PROJECT_ID'],\n",
    "                           version=env['OS_IDENTITY_API_VERSION'],\n",
    "                           user_domain_name=env['OS_USER_DOMAIN_NAME'],\n",
    "                           region_name=env['OS_REGION_NAME'])"
   ]
  },
  {
   "cell_type": "code",
   "execution_count": 3,
   "metadata": {},
   "outputs": [],
   "source": [
    "endpoints = keystone.service_catalog.get_endpoints()"
   ]
  },
  {
   "cell_type": "code",
   "execution_count": 4,
   "metadata": {},
   "outputs": [
    {
     "name": "stdout",
     "output_type": "stream",
     "text": [
      "service:  compute , region:  east-1 , public endpoint:  https://east-1.cloud.snic.se:8774/v2.1\n",
      "service:  identity , region:  east-1 , public endpoint:  https://east-1.cloud.snic.se:5000\n",
      "service:  cloudformation , region:  east-1 , public endpoint:  https://east-1.cloud.snic.se:8000/v1\n",
      "service:  orchestration , region:  east-1 , public endpoint:  https://east-1.cloud.snic.se:8004/v1/fc1aade83c2e49baa7498b3918560d9f\n",
      "service:  network , region:  east-1 , public endpoint:  https://east-1.cloud.snic.se:9696\n",
      "service:  volumev3 , region:  east-1 , public endpoint:  https://east-1.cloud.snic.se:8776/v3/fc1aade83c2e49baa7498b3918560d9f\n",
      "service:  image , region:  east-1 , public endpoint:  https://east-1.cloud.snic.se:9292\n",
      "service:  metric , region:  east-1 , public endpoint:  https://130.238.28.5:8041\n",
      "service:  placement , region:  east-1 , public endpoint:  https://east-1.cloud.snic.se:8780\n",
      "service:  volumev2 , region:  east-1 , public endpoint:  https://east-1.cloud.snic.se:8776/v2/fc1aade83c2e49baa7498b3918560d9f\n"
     ]
    }
   ],
   "source": [
    "for endpoint in endpoints:\n",
    "    for edp in endpoints[endpoint]:\n",
    "        if edp['interface'] == 'public':\n",
    "            print('service: ', endpoint, ', region: ', edp['region'], ', public endpoint: ', edp['url'])"
   ]
  },
  {
   "cell_type": "markdown",
   "metadata": {},
   "source": [
    "# Questions:"
   ]
  },
  {
   "cell_type": "raw",
   "metadata": {},
   "source": [
    "1 - Explain the working of the code?\n",
    "2 - Why we need openrc file to run this code?\n",
    "3 - The code shows information about the \"public\" endpoints. Modify the code to show both the \"public\" and \"internal\" endpoints?\n",
    "4 - What is the difference between \"internal\" and \"public\" endpoints?"
   ]
  },
  {
   "cell_type": "markdown",
   "metadata": {},
   "source": [
    "## Answers:"
   ]
  },
  {
   "cell_type": "markdown",
   "metadata": {},
   "source": [
    "1. Firstly we loaded environment variables (sourced before), and create an authenticated connected to openstack using `ksclient.Client()`, then we requested endpoints of different services from openstack using `keystone.service_catalog.get_endpoints()` and stored them as a dictionary. Then we traverse the dictionary to print those public endpoints. "
   ]
  },
  {
   "cell_type": "markdown",
   "metadata": {},
   "source": [
    "2. We need to add those environment variables defined in the openrc file to authenticate our connection to openstack. "
   ]
  },
  {
   "cell_type": "markdown",
   "metadata": {},
   "source": [
    "3. Modified codes are shown below: "
   ]
  },
  {
   "cell_type": "code",
   "execution_count": 5,
   "metadata": {},
   "outputs": [
    {
     "name": "stdout",
     "output_type": "stream",
     "text": [
      "service:  compute , region:  east-1 , interface:  public , endpoint:  https://east-1.cloud.snic.se:8774/v2.1\n",
      "service:  compute , region:  east-1 , interface:  internal , endpoint:  http://172.29.236.9:8774/v2.1\n",
      "service:  identity , region:  east-1 , interface:  internal , endpoint:  http://172.29.236.9:5000\n",
      "service:  identity , region:  east-1 , interface:  public , endpoint:  https://east-1.cloud.snic.se:5000\n",
      "service:  cloudformation , region:  east-1 , interface:  internal , endpoint:  http://172.29.236.9:8000/v1\n",
      "service:  cloudformation , region:  east-1 , interface:  public , endpoint:  https://east-1.cloud.snic.se:8000/v1\n",
      "service:  orchestration , region:  east-1 , interface:  internal , endpoint:  http://172.29.236.9:8004/v1/fc1aade83c2e49baa7498b3918560d9f\n",
      "service:  orchestration , region:  east-1 , interface:  public , endpoint:  https://east-1.cloud.snic.se:8004/v1/fc1aade83c2e49baa7498b3918560d9f\n",
      "service:  network , region:  east-1 , interface:  internal , endpoint:  http://172.29.236.9:9696\n",
      "service:  network , region:  east-1 , interface:  public , endpoint:  https://east-1.cloud.snic.se:9696\n",
      "service:  volumev3 , region:  east-1 , interface:  internal , endpoint:  http://172.29.236.9:8776/v3/fc1aade83c2e49baa7498b3918560d9f\n",
      "service:  volumev3 , region:  east-1 , interface:  public , endpoint:  https://east-1.cloud.snic.se:8776/v3/fc1aade83c2e49baa7498b3918560d9f\n",
      "service:  image , region:  east-1 , interface:  internal , endpoint:  http://172.29.236.9:9292\n",
      "service:  image , region:  east-1 , interface:  public , endpoint:  https://east-1.cloud.snic.se:9292\n",
      "service:  metric , region:  east-1 , interface:  public , endpoint:  https://130.238.28.5:8041\n",
      "service:  metric , region:  east-1 , interface:  internal , endpoint:  http://172.29.236.9:8041\n",
      "service:  placement , region:  east-1 , interface:  internal , endpoint:  http://172.29.236.9:8780\n",
      "service:  placement , region:  east-1 , interface:  public , endpoint:  https://east-1.cloud.snic.se:8780\n",
      "service:  volumev2 , region:  east-1 , interface:  public , endpoint:  https://east-1.cloud.snic.se:8776/v2/fc1aade83c2e49baa7498b3918560d9f\n",
      "service:  volumev2 , region:  east-1 , interface:  internal , endpoint:  http://172.29.236.9:8776/v2/fc1aade83c2e49baa7498b3918560d9f\n"
     ]
    }
   ],
   "source": [
    "for endpoint in endpoints:\n",
    "    for edp in endpoints[endpoint]:\n",
    "        if edp['interface'] == 'public' or edp['interface'] == 'internal':\n",
    "            print('service: ', endpoint, ', region: ', edp['region'], ', interface: ', edp['interface'], ', endpoint: ', edp['url'])"
   ]
  },
  {
   "cell_type": "markdown",
   "metadata": {},
   "source": [
    "4. Internal endpoints are intended for uses internal to the cloud (for example, by OpenStack services), and usually would not be accessible outside of the deployment network. The public endpoints should be TLS-enabled, and the only API endpoints accessible outside of the deployment for cloud users to operate on."
   ]
  },
  {
   "cell_type": "markdown",
   "metadata": {
    "collapsed": true
   },
   "source": [
    "## Task - 2"
   ]
  },
  {
   "cell_type": "markdown",
   "metadata": {
    "collapsed": true
   },
   "source": [
    "In this task you need to write a small python program using Keystone and Nova APIs to list all the available VMs in the project. \n",
    "\n",
    "Use the following links and the code available in Task-1. \n",
    "\n",
    "https://docs.openstack.org/python-novaclient/pike/ https://docs.openstack.org/python-novaclient/pike/reference/api/index.html\n",
    "\n",
    "Following are the functions required to accomplish the task: \n",
    "\n",
    "Load the required plugin:<br />\n",
    "loader = loading.get_plugin_loader(...)\n",
    "\n",
    "Create the auth object:<br />\n",
    "auth = loader.load_from_options(....) \n",
    "\n",
    "Create session object using \"auth\":<br />\n",
    "sess = session.Session( .... )\n",
    "\n",
    "Create Nova Client Object:<br />\n",
    "nova = client.Client( ... )\n",
    "\n",
    "Print the Vms:<br />\n",
    "nova.servers.list():"
   ]
  },
  {
   "cell_type": "code",
   "execution_count": 6,
   "metadata": {},
   "outputs": [],
   "source": [
    "from novaclient import client\n",
    "from keystoneauth1 import loading\n",
    "from keystoneauth1 import session"
   ]
  },
  {
   "cell_type": "code",
   "execution_count": 7,
   "metadata": {},
   "outputs": [],
   "source": [
    "loader = loading.get_plugin_loader('password')\n",
    "auth = loader.load_from_options(auth_url=env['OS_AUTH_URL'],\n",
    "                                username=env['OS_USERNAME'],\n",
    "                                password=env['OS_PASSWORD'],\n",
    "                                project_name=env['OS_PROJECT_NAME'],\n",
    "                                project_domain_name=env['OS_USER_DOMAIN_NAME'],\n",
    "                                project_id=env['OS_PROJECT_ID'],\n",
    "                                user_domain_name=env['OS_USER_DOMAIN_NAME'])"
   ]
  },
  {
   "cell_type": "code",
   "execution_count": 8,
   "metadata": {},
   "outputs": [
    {
     "data": {
      "text/plain": [
       "[<Server: Ellinor_c2_2>,\n",
       " <Server: sai_lab2>,\n",
       " <Server: maha_scripted_instance>,\n",
       " <Server: vm1>,\n",
       " <Server: wezh_lab2_scripted_instance>,\n",
       " <Server: stack_with_init_script-my_instance1-7klscbke4rwm>,\n",
       " <Server: stack_with_init_script-my_instance0-rxiiliq6pxmm>,\n",
       " <Server: Vera_C2>,\n",
       " <Server: dapi1>,\n",
       " <Server: Aneysha_LAb2>,\n",
       " <Server: JS>,\n",
       " <Server: stack_meriton-my_instance1-3xdvmg7p3vcw>,\n",
       " <Server: stack_meriton-my_instance0-aqywlvtafxja>,\n",
       " <Server: Marcus_L_C2>,\n",
       " <Server: Henkeinst-200922WSL>,\n",
       " <Server: meritony>,\n",
       " <Server: Henkeinst-200922ITC>,\n",
       " <Server: wezh_lab2>,\n",
       " <Server: shreyas_spark>,\n",
       " <Server: yudu_lab11>,\n",
       " <Server: shreyas_ansible>,\n",
       " <Server: Stina_2>,\n",
       " <Server: Ellinor_c2>,\n",
       " <Server: dani_lab2_inst3>,\n",
       " <Server: max_soneback_docker>,\n",
       " <Server: vmTabeaDocker>,\n",
       " <Server: maha_c2>,\n",
       " <Server: li-ju>,\n",
       " <Server: Julie-Lab2>,\n",
       " <Server: saria_azam2>,\n",
       " <Server: Raheel2>,\n",
       " <Server: ahameed1>,\n",
       " <Server: Ego_Ass2>,\n",
       " <Server: Kev-instance>,\n",
       " <Server: mj-docker>,\n",
       " <Server: task5vm_test>,\n",
       " <Server: lisa_vm1>,\n",
       " <Server: lisa_vm1>,\n",
       " <Server: saria_azam>,\n",
       " <Server: mj-lab2>,\n",
       " <Server: akshai_c2>,\n",
       " <Server: C-2>,\n",
       " <Server: girish-c2>]"
      ]
     },
     "execution_count": 8,
     "metadata": {},
     "output_type": "execute_result"
    }
   ],
   "source": [
    "sess = session.Session(auth=auth)\n",
    "nova = client.Client('2.1', session=sess)\n",
    "nova.servers.list()"
   ]
  },
  {
   "cell_type": "markdown",
   "metadata": {},
   "source": [
    "## Task - 3:"
   ]
  },
  {
   "cell_type": "markdown",
   "metadata": {},
   "source": [
    "Try to measure the speed with which you can put and get files to and from volumes. Conduct your experiment several\n",
    "times to gather statistic and plot a) A estimated distribution of the time taken (in wall clock) to write and read a file of size 10MB in your volume and b) vary the size of the file from 10kB to 100MB and plot the read and write\n",
    "throughput (in MB/s) times as a function of file size (for the smaller data sizes, you might need to repeat the\n",
    "experiment many times and obtain a statistical average). Use \"Root\" disk as a reference point. Include the resulting\n",
    "graphs and a description of your experiment in the report."
   ]
  },
  {
   "cell_type": "markdown",
   "metadata": {},
   "source": [
    "### Answers\n",
    "To measure the speed of the volume, a brand new volume is created and attached to the virtual machine, but yet to be formated and mounted. Firstly shell command is used to initialize the volume. "
   ]
  },
  {
   "cell_type": "code",
   "execution_count": 24,
   "metadata": {},
   "outputs": [
    {
     "name": "stdout",
     "output_type": "stream",
     "text": [
      "mke2fs 1.44.1 (24-Mar-2018)\n",
      "Creating filesystem with 262144 4k blocks and 65536 inodes\n",
      "Filesystem UUID: 7759dfb0-1621-4441-9d39-0e72ccbcf98c\n",
      "Superblock backups stored on blocks: \n",
      "\t32768, 98304, 163840, 229376\n",
      "\n",
      "Allocating group tables: 0/  done                            \n",
      "Writing inode tables: 0/  done                            \n",
      "Creating journal (8192 blocks): done\n",
      "Writing superblocks and filesystem accounting information: 0/  done\n",
      "\n"
     ]
    }
   ],
   "source": [
    "!sudo mkfs.ext3 /dev/vde\n",
    "!sudo mkdir /testvol\n",
    "!sudo mount /dev/vde /testvol"
   ]
  },
  {
   "cell_type": "markdown",
   "metadata": {},
   "source": [
    "Following 2 functions are defined, to test writing speed and reading speed from disk. "
   ]
  },
  {
   "cell_type": "code",
   "execution_count": 1,
   "metadata": {},
   "outputs": [],
   "source": [
    "import numpy as np\n",
    "import matplotlib.pyplot as plt\n",
    "import os, sys\n",
    "from time import perf_counter as time\n",
    "import statistics"
   ]
  },
  {
   "cell_type": "code",
   "execution_count": 2,
   "metadata": {},
   "outputs": [],
   "source": [
    "def write_test(file_name, block_size, blocks_count):\n",
    "    os.mkdir(file_name)\n",
    "    # $blocks_count files are written on the disk, and the size of each file is $block_size\n",
    "    # all files for testing are saved in the directory named $file_name\n",
    "    result = []\n",
    "    for i in range(blocks_count):\n",
    "        f = os.open(file_name+\"/tmp\"+str(i), os.O_CREAT | os.O_WRONLY, 0o777)  # low-level I/O\n",
    "        buff = os.urandom(block_size)\n",
    "        start = time()\n",
    "        os.write(f, buff)\n",
    "        os.fsync(f)  # force write to disk\n",
    "        t = time() - start\n",
    "        result.append(t)\n",
    "        os.close(f)\n",
    "    # a list of time cost for each file will be returned for further analysis\n",
    "    return result"
   ]
  },
  {
   "cell_type": "code",
   "execution_count": 3,
   "metadata": {},
   "outputs": [],
   "source": [
    "def read_test(file_name, block_size, blocks_count):\n",
    "    # Files are written by function write_test(...) will be read one by one to test disk reading speed\n",
    "    result = []\n",
    "    for i in range(blocks_count):\n",
    "        f = os.open(file_name+\"/tmp\"+str(i), os.O_RDONLY, 0o7777)  # low-level I/O\n",
    "        start = time()\n",
    "        buff = os.read(f, block_size)\n",
    "        t = time() - start\n",
    "        result.append(t)\n",
    "        os.close(f)\n",
    "    return result"
   ]
  },
  {
   "cell_type": "code",
   "execution_count": 4,
   "metadata": {},
   "outputs": [],
   "source": [
    "def clean(file_name):\n",
    "    # to clean temp files\n",
    "    os.system(\"rm -rf \"+file_name)"
   ]
  },
  {
   "cell_type": "markdown",
   "metadata": {},
   "source": [
    "#### A: Time cost distribution for 10M-file writing and reading"
   ]
  },
  {
   "cell_type": "markdown",
   "metadata": {},
   "source": [
    "To measure the speed of the volume for 10M files, 50 tests are done and the distribution of writing and reading speed is shown as following"
   ]
  },
  {
   "cell_type": "code",
   "execution_count": 5,
   "metadata": {},
   "outputs": [
    {
     "data": {
      "image/png": "[encoded data removed]",
      "text/plain": [
       "<Figure size 432x288 with 1 Axes>"
      ]
     },
     "metadata": {
      "needs_background": "light"
     },
     "output_type": "display_data"
    }
   ],
   "source": [
    "block_size = 10*1024*1024 # Size: 10MB\n",
    "count = 50 # Number of tests: 50\n",
    "temp_name = \"/testvol/tmp\"\n",
    "\n",
    "write_results = write_test(temp_name, block_size, count)\n",
    "\n",
    "n, bins, patches = plt.hist(write_results, 10, alpha=0.5)\n",
    "plt.xlabel('Writing time cost/s')\n",
    "plt.title('Writing time cost distribution of 10MB files on volume')\n",
    "plt.show()"
   ]
  },
  {
   "cell_type": "code",
   "execution_count": 6,
   "metadata": {},
   "outputs": [
    {
     "data": {
      "image/png": "[encoded data removed]",
      "text/plain": [
       "<Figure size 432x288 with 1 Axes>"
      ]
     },
     "metadata": {
      "needs_background": "light"
     },
     "output_type": "display_data"
    }
   ],
   "source": [
    "read_results = read_test(temp_name, block_size, count)\n",
    "\n",
    "n, bins, patches = plt.hist(read_results, 10, alpha=0.5)\n",
    "plt.xlabel('Reading time cost/s')\n",
    "plt.title('Reading time cost distribution of 10MB files on volume')\n",
    "plt.show()\n",
    "clean(temp_name)"
   ]
  },
  {
   "cell_type": "markdown",
   "metadata": {},
   "source": [
    "As we can see that, generally reading speed is far faster than writing speed, but sometimes reading speed is low as well. The reason for this is that Linux kernel reserves cache for recent files. In most cases, recent files can be found in cache, and reading from cache is very fast (4-5GB/s). However, in some cases, files to be read are not in cache and disk reading is required, which takes much more time. But for writing, as we used fsync() function to force the kernel write files to disk, writing speed is much slower comparing with reading speed, because it involves disk IO each time. "
   ]
  },
  {
   "cell_type": "markdown",
   "metadata": {},
   "source": [
    "#### B: Speed test for different-sized files writing and reading"
   ]
  },
  {
   "cell_type": "markdown",
   "metadata": {},
   "source": [
    "To get a more convincing result, multiple tests are done for files of each size. For small-sized files (10KB and 100KB), 100 tests are done, for files of 1MB and 10MB, 50 tests are done and for 100MB files, 5 tests are conducted. Figure for writing and reading speed for different-sized files are attached below. "
   ]
  },
  {
   "cell_type": "code",
   "execution_count": 7,
   "metadata": {},
   "outputs": [],
   "source": [
    "block_sizes = [10240, 102400, 1024*1024, 10*1024*1024, 100*1024*1024]\n",
    "blocks = [100, 100, 50, 50, 5]"
   ]
  },
  {
   "cell_type": "code",
   "execution_count": 8,
   "metadata": {},
   "outputs": [],
   "source": [
    "writings = []\n",
    "readings = []\n",
    "for i in range(5): \n",
    "    entire_size = block_sizes[i]*blocks[i]\n",
    "    write_results = write_test(temp_name, block_sizes[i], blocks[i])\n",
    "    writings.append(entire_size/1024/1024/sum(write_results))\n",
    "    read_results = read_test(temp_name, block_sizes[i], blocks[i])\n",
    "    readings.append(entire_size/1024/1024/sum(read_results))\n",
    "    clean(temp_name)"
   ]
  },
  {
   "cell_type": "code",
   "execution_count": 9,
   "metadata": {},
   "outputs": [
    {
     "data": {
      "image/png": "[encoded data removed]",
      "text/plain": [
       "<Figure size 432x288 with 2 Axes>"
      ]
     },
     "metadata": {
      "needs_background": "light"
     },
     "output_type": "display_data"
    }
   ],
   "source": [
    "fig, axs = plt.subplots(1, 2, sharey=False, tight_layout=True)\n",
    "axs[0].plot(writings)\n",
    "axs[0].set_title('Writing speed')\n",
    "axs[0].set_xticks([0,1,2,3,4])\n",
    "axs[0].set_xticklabels(['10KB','100KB','1MB','10MB', '100MB'])\n",
    "axs[0].set_ylabel('Speed/(MB/s)')\n",
    "axs[1].plot(readings)\n",
    "axs[1].set_title('Reading speed')\n",
    "axs[1].set_xticks([0,1,2,3,4])\n",
    "axs[1].set_xticklabels(['10KB','100KB','1MB','10MB', '100MB'])\n",
    "axs[1].set_ylabel('Speed/(MB/s)')\n",
    "plt.show()"
   ]
  }
 ],
 "metadata": {
  "kernelspec": {
   "display_name": "Python 3",
   "language": "python",
   "name": "python3"
  },
  "language_info": {
   "codemirror_mode": {
    "name": "ipython",
    "version": 3
   },
   "file_extension": ".py",
   "mimetype": "text/x-python",
   "name": "python",
   "nbconvert_exporter": "python",
   "pygments_lexer": "ipython3",
   "version": "3.6.9"
  }
 },
 "nbformat": 4,
 "nbformat_minor": 1
}
