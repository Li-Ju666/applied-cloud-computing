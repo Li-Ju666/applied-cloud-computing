{
 "cells": [
  {
   "cell_type": "markdown",
   "metadata": {},
   "source": [
    "# Computer Lab 2, Part I"
   ]
  },
  {
   "cell_type": "markdown",
   "metadata": {},
   "source": [
    "This notebook consists of instructions, exercises and questions that form the practical part of Lab II, Part I.\n",
    "In this assignment, you will learn the basics of the OpenStack Python APIs that can be used to interact directly with\n",
    "the IaaS services Keystone (Identity), Glance (Image) and Nova (compute). Please prepare your solution and answers to\n",
    "questions directly in this notebook, and export it to PDF. Upload that PDF as to the student portal to complete Part I\n",
    "of the Lab."
   ]
  },
  {
   "cell_type": "markdown",
   "metadata": {},
   "source": [
    "## Task - 1"
   ]
  },
  {
   "cell_type": "code",
   "execution_count": 1,
   "metadata": {},
   "outputs": [],
   "source": [
    "from os import environ as env\n",
    "import keystoneclient.v3.client as ksclient"
   ]
  },
  {
   "cell_type": "markdown",
   "metadata": {},
   "source": [
    "To establish a client connection, we will need to pass a dictionary with information about the tenant, user, credentials and the API Identity endpoint. Here, I have sourced the \"openrc.sh file\" obtained from the Horizon dashboard in the underlying shell prior to starting the notebook. Hence, in order to actually run the code below, you would need to do the same with your own credentials. "
   ]
  },
  {
   "cell_type": "code",
   "execution_count": 2,
   "metadata": {},
   "outputs": [],
   "source": [
    "keystone = ksclient.Client(auth_url=env['OS_AUTH_URL'],\n",
    "                           username=env['OS_USERNAME'],\n",
    "                           password=env['OS_PASSWORD'],\n",
    "                           project_name=env['OS_PROJECT_NAME'],\n",
    "                           project_domain_name=env['OS_USER_DOMAIN_NAME'],\n",
    "                           project_id=env['OS_PROJECT_ID'],\n",
    "                           version=env['OS_IDENTITY_API_VERSION'],\n",
    "                           user_domain_name=env['OS_USER_DOMAIN_NAME'],\n",
    "                           region_name=env['OS_REGION_NAME'])"
   ]
  },
  {
   "cell_type": "raw",
   "metadata": {},
   "source": [
    "# Next command will collect all the available endpoints in keystone."
   ]
  },
  {
   "cell_type": "code",
   "execution_count": 3,
   "metadata": {},
   "outputs": [],
   "source": [
    "endpoints = keystone.service_catalog.get_endpoints()"
   ]
  },
  {
   "cell_type": "raw",
   "metadata": {
    "collapsed": true
   },
   "source": [
    "# Next section will print the services with associated infromation."
   ]
  },
  {
   "cell_type": "code",
   "execution_count": 5,
   "metadata": {},
   "outputs": [
    {
     "name": "stdout",
     "output_type": "stream",
     "text": [
      "service:  compute , region:  east-1 , public endpoint:  https://east-1.cloud.snic.se:8774/v2.1\n",
      "service:  identity , region:  east-1 , public endpoint:  https://east-1.cloud.snic.se:5000\n",
      "service:  cloudformation , region:  east-1 , public endpoint:  https://east-1.cloud.snic.se:8000/v1\n",
      "service:  orchestration , region:  east-1 , public endpoint:  https://east-1.cloud.snic.se:8004/v1/fc1aade83c2e49baa7498b3918560d9f\n",
      "service:  network , region:  east-1 , public endpoint:  https://east-1.cloud.snic.se:9696\n",
      "service:  volumev3 , region:  east-1 , public endpoint:  https://east-1.cloud.snic.se:8776/v3/fc1aade83c2e49baa7498b3918560d9f\n",
      "service:  image , region:  east-1 , public endpoint:  https://east-1.cloud.snic.se:9292\n",
      "service:  metric , region:  east-1 , public endpoint:  https://130.238.28.5:8041\n",
      "service:  placement , region:  east-1 , public endpoint:  https://east-1.cloud.snic.se:8780\n",
      "service:  volumev2 , region:  east-1 , public endpoint:  https://east-1.cloud.snic.se:8776/v2/fc1aade83c2e49baa7498b3918560d9f\n"
     ]
    }
   ],
   "source": [
    "for endpoint in endpoints:\n",
    "    for edp in endpoints[endpoint]:\n",
    "        if edp['interface'] == 'public':\n",
    "            print('service: ', endpoint, ', region: ', edp['region'], ', public endpoint: ', edp['url'])"
   ]
  },
  {
   "cell_type": "markdown",
   "metadata": {},
   "source": [
    "# Questions:"
   ]
  },
  {
   "cell_type": "raw",
   "metadata": {},
   "source": [
    "1 - Explain the working of the code?\n",
    "2 - Why we need openrc file to run this code?\n",
    "3 - The code shows information about the \"public\" endpoints. Modify the code to show both the \"public\" and \"internal\" endpoints?\n",
    "4 - What is the difference between \"internal\" and \"public\" endpoints?"
   ]
  },
  {
   "cell_type": "markdown",
   "metadata": {},
   "source": [
    "## Answers:"
   ]
  },
  {
   "cell_type": "markdown",
   "metadata": {},
   "source": [
    "1. Firstly we loaded environment variables (sourced before), and create an authenticated connected to openstack using `ksclient.Client()`, then we requested endpoints of different services from openstack using `keystone.service_catalog.get_endpoints()` and stored them as a dictionary. Then we traverse the dictionary to print those public endpoints. "
   ]
  },
  {
   "cell_type": "markdown",
   "metadata": {},
   "source": [
    "2. We need to add those environment variables defined in the openrc file to authenticate our connection to openstack. "
   ]
  },
  {
   "cell_type": "markdown",
   "metadata": {},
   "source": [
    "3. Modified codes are shown below: "
   ]
  },
  {
   "cell_type": "code",
   "execution_count": 11,
   "metadata": {},
   "outputs": [
    {
     "name": "stdout",
     "output_type": "stream",
     "text": [
      "service:  compute , region:  east-1 , interface:  public , endpoint:  https://east-1.cloud.snic.se:8774/v2.1\n",
      "service:  compute , region:  east-1 , interface:  internal , endpoint:  http://172.29.236.9:8774/v2.1\n",
      "service:  identity , region:  east-1 , interface:  internal , endpoint:  http://172.29.236.9:5000\n",
      "service:  identity , region:  east-1 , interface:  public , endpoint:  https://east-1.cloud.snic.se:5000\n",
      "service:  cloudformation , region:  east-1 , interface:  internal , endpoint:  http://172.29.236.9:8000/v1\n",
      "service:  cloudformation , region:  east-1 , interface:  public , endpoint:  https://east-1.cloud.snic.se:8000/v1\n",
      "service:  orchestration , region:  east-1 , interface:  internal , endpoint:  http://172.29.236.9:8004/v1/fc1aade83c2e49baa7498b3918560d9f\n",
      "service:  orchestration , region:  east-1 , interface:  public , endpoint:  https://east-1.cloud.snic.se:8004/v1/fc1aade83c2e49baa7498b3918560d9f\n",
      "service:  network , region:  east-1 , interface:  internal , endpoint:  http://172.29.236.9:9696\n",
      "service:  network , region:  east-1 , interface:  public , endpoint:  https://east-1.cloud.snic.se:9696\n",
      "service:  volumev3 , region:  east-1 , interface:  internal , endpoint:  http://172.29.236.9:8776/v3/fc1aade83c2e49baa7498b3918560d9f\n",
      "service:  volumev3 , region:  east-1 , interface:  public , endpoint:  https://east-1.cloud.snic.se:8776/v3/fc1aade83c2e49baa7498b3918560d9f\n",
      "service:  image , region:  east-1 , interface:  internal , endpoint:  http://172.29.236.9:9292\n",
      "service:  image , region:  east-1 , interface:  public , endpoint:  https://east-1.cloud.snic.se:9292\n",
      "service:  metric , region:  east-1 , interface:  public , endpoint:  https://130.238.28.5:8041\n",
      "service:  metric , region:  east-1 , interface:  internal , endpoint:  http://172.29.236.9:8041\n",
      "service:  placement , region:  east-1 , interface:  internal , endpoint:  http://172.29.236.9:8780\n",
      "service:  placement , region:  east-1 , interface:  public , endpoint:  https://east-1.cloud.snic.se:8780\n",
      "service:  volumev2 , region:  east-1 , interface:  public , endpoint:  https://east-1.cloud.snic.se:8776/v2/fc1aade83c2e49baa7498b3918560d9f\n",
      "service:  volumev2 , region:  east-1 , interface:  internal , endpoint:  http://172.29.236.9:8776/v2/fc1aade83c2e49baa7498b3918560d9f\n"
     ]
    }
   ],
   "source": [
    "for endpoint in endpoints:\n",
    "    for edp in endpoints[endpoint]:\n",
    "        if edp['interface'] == 'public' or edp['interface'] == 'internal':\n",
    "            print('service: ', endpoint, ', region: ', edp['region'], ', interface: ', edp['interface'], ', endpoint: ', edp['url'])"
   ]
  },
  {
   "cell_type": "markdown",
   "metadata": {},
   "source": [
    "4. Internal endpoints are intended for uses internal to the cloud (for example, by OpenStack services), and usually would not be accessible outside of the deployment network. The public endpoints should be TLS-enabled, and the only API endpoints accessible outside of the deployment for cloud users to operate on."
   ]
  },
  {
   "cell_type": "markdown",
   "metadata": {
    "collapsed": true
   },
   "source": [
    "## Task - 2"
   ]
  },
  {
   "cell_type": "markdown",
   "metadata": {
    "collapsed": true
   },
   "source": [
    "In this task you need to write a small python program using Keystone and Nova APIs to list all the available VMs in the project. \n",
    "\n",
    "Use the following links and the code available in Task-1. \n",
    "\n",
    "https://docs.openstack.org/python-novaclient/pike/ https://docs.openstack.org/python-novaclient/pike/reference/api/index.html\n",
    "\n",
    "Following are the functions required to accomplish the task: \n",
    "\n",
    "Load the required plugin:<br />\n",
    "loader = loading.get_plugin_loader(...)\n",
    "\n",
    "Create the auth object:<br />\n",
    "auth = loader.load_from_options(....) \n",
    "\n",
    "Create session object using \"auth\":<br />\n",
    "sess = session.Session( .... )\n",
    "\n",
    "Create Nova Client Object:<br />\n",
    "nova = client.Client( ... )\n",
    "\n",
    "Print the Vms:<br />\n",
    "nova.servers.list():"
   ]
  },
  {
   "cell_type": "code",
   "execution_count": 19,
   "metadata": {},
   "outputs": [],
   "source": [
    "import novaclient\n",
    "from keystoneauth1 import loading\n",
    "from keystoneauth1 import session"
   ]
  },
  {
   "cell_type": "code",
   "execution_count": 20,
   "metadata": {},
   "outputs": [],
   "source": [
    "loader = loading.get_plugin_loader('password')\n",
    "auth = loader.load_from_options(auth_url=env['OS_AUTH_URL'],\n",
    "                                username=env['OS_USERNAME'],\n",
    "                                password=env['OS_PASSWORD'],\n",
    "                                project_name=env['OS_PROJECT_NAME'],\n",
    "                                project_domain_name=env['OS_USER_DOMAIN_NAME'],\n",
    "                                project_id=env['OS_PROJECT_ID'],\n",
    "                                user_domain_name=env['OS_USER_DOMAIN_NAME'])"
   ]
  },
  {
   "cell_type": "code",
   "execution_count": 22,
   "metadata": {},
   "outputs": [
    {
     "data": {
      "text/plain": [
       "[<Server: vmTabeaDocker>,\n",
       " <Server: max_soneback_docker>,\n",
       " <Server: Julie-Lab2>,\n",
       " <Server: ray_stack_1-my_instance0-34bqo55nod4d>,\n",
       " <Server: ray_stack_1-my_instance1-qzdarbz7ys2x>,\n",
       " <Server: stack_with_init_script-my_instance0-fxeamr6khcgk>,\n",
       " <Server: stack_with_init_script-my_instance1-wnj3b3ns7jty>,\n",
       " <Server: saria_azam2>,\n",
       " <Server: sotiris_stack-my_instance1-jeeti32nenm3>,\n",
       " <Server: sotiris_stack-my_instance0-5nhxvbbcvnx4>,\n",
       " <Server: Raheel2>,\n",
       " <Server: ahameed1>,\n",
       " <Server: dani_remotevm>,\n",
       " <Server: Dani_lab2_inst2>,\n",
       " <Server: Ego_Ass2>,\n",
       " <Server: Kev-instance>,\n",
       " <Server: stina_vm1>,\n",
       " <Server: mj-docker>,\n",
       " <Server: task5vm_test>,\n",
       " <Server: Salman Toor>,\n",
       " <Server: dapi_vm1>,\n",
       " <Server: lisa_vm1>,\n",
       " <Server: lisa_vm1>,\n",
       " <Server: saria_azam>,\n",
       " <Server: shreyas_vm1>,\n",
       " <Server: girish_vm1>,\n",
       " <Server: wezh_C2>,\n",
       " <Server: ester_vm1>,\n",
       " <Server: meriton>,\n",
       " <Server: ester_vm1>,\n",
       " <Server: vm1>,\n",
       " <Server: ester_vm1>,\n",
       " <Server: mj-lab2>,\n",
       " <Server: kevinaja_vm1>,\n",
       " <Server: akshai_c2>,\n",
       " <Server: ester_vm1>,\n",
       " <Server: ester_vm1>,\n",
       " <Server: C-2>,\n",
       " <Server: ester_vm1>,\n",
       " <Server: max_soneback_vm>,\n",
       " <Server: girish-c2>,\n",
       " <Server: vmVera>,\n",
       " <Server: shreyas>,\n",
       " <Server: vmTabea>,\n",
       " <Server: sai_lab2>,\n",
       " <Server: Stina_C2>,\n",
       " <Server: test_instance_lab1>,\n",
       " <Server: Sotiris_Python>,\n",
       " <Server: ester_vm1>,\n",
       " <Server: TianruZ_lab2>,\n",
       " <Server: Raheel_C2>,\n",
       " <Server: vm1>,\n",
       " <Server: jovi3089_C2>,\n",
       " <Server: JS>,\n",
       " <Server: LisaLab2>,\n",
       " <Server: Tabea_C2>,\n",
       " <Server: ahameed>,\n",
       " <Server: Max_Soneback_C2>,\n",
       " <Server: meby3>,\n",
       " <Server: emgo2250_L2>,\n",
       " <Server: kevaja_c2>,\n",
       " <Server: ester>,\n",
       " <Server: Sotiris_C2>,\n",
       " <Server: vm_test>,\n",
       " <Server: maha>,\n",
       " <Server: dapi1>,\n",
       " <Server: Marcus_Instance>,\n",
       " <Server: shuyi>,\n",
       " <Server: lab_1>,\n",
       " <Server: test_lab2>]"
      ]
     },
     "execution_count": 22,
     "metadata": {},
     "output_type": "execute_result"
    }
   ],
   "source": [
    "sess = session.Session(auth=auth)\n",
    "nova = novaclient.client.Client('2.1', session=sess)\n",
    "nova.servers.list()"
   ]
  },
  {
   "cell_type": "markdown",
   "metadata": {},
   "source": [
    "## Task - 3:"
   ]
  },
  {
   "cell_type": "markdown",
   "metadata": {},
   "source": [
    "Try to measure the speed with which you can put and get files to and from volumes. Conduct your experiment several\n",
    "times to gather statistic and plot a) A estimated distribution of the time taken (in wall clock) to write and read a\n",
    "file of size 10MB in your volume and b) vary the size of the file from 10kB to 100MB and plot the read and write\n",
    "throughput (in MB/s) times as a function of file size (for the smaller data sizes, you might need to repeat the\n",
    "experiment many times and obtain a statistical average). Use \"Root\" disk as a reference point. Include the resulting\n",
    "graphs and a description of your experiment in the report."
   ]
  },
  {
   "cell_type": "code",
   "execution_count": 31,
   "metadata": {},
   "outputs": [],
   "source": [
    "import cinderclient"
   ]
  },
  {
   "cell_type": "code",
   "execution_count": 46,
   "metadata": {},
   "outputs": [
    {
     "name": "stdout",
     "output_type": "stream",
     "text": [
      "<class 'str'>\n"
     ]
    },
    {
     "data": {
      "text/plain": [
       "(<Response [202]>, None)"
      ]
     },
     "execution_count": 46,
     "metadata": {},
     "output_type": "execute_result"
    }
   ],
   "source": [
    "cinder = cinderclient.v3.client.Client('3', session=sess)\n",
    "cinder.volumes.list()\n",
    "#testvol = cinder.volumes.create(size=1, name=\"li-ju-test\")\n",
    "myvm = 'f05f9336-a649-48c4-b162-a02f5bb445c5'\n",
    "print(type(testvol.id))\n",
    "cinder.volumes.attach(testvol.id, myvm, '/dev/vda')"
   ]
  },
  {
   "cell_type": "code",
   "execution_count": 18,
   "metadata": {},
   "outputs": [
    {
     "name": "stdout",
     "output_type": "stream",
     "text": [
      "Populating the interactive namespace from numpy and matplotlib\n"
     ]
    },
    {
     "data": {
      "text/plain": [
       "[<matplotlib.lines.Line2D at 0x7fbb60156b00>]"
      ]
     },
     "execution_count": 18,
     "metadata": {},
     "output_type": "execute_result"
    },
    {
     "data": {
      "image/png": "[encoded data removed]",
      "text/plain": [
       "<Figure size 432x288 with 1 Axes>"
      ]
     },
     "metadata": {
      "needs_background": "light"
     },
     "output_type": "display_data"
    }
   ],
   "source": [
    "# Implement you solution here. Hint, the following command\n",
    "%pylab inline \n",
    "# will  make matplotlib/pylab available and plots will be displayed directly in the notebook, for example\n",
    "plt.plot([0,1,2,3],[0,1,2,3])"
   ]
  },
  {
   "cell_type": "markdown",
   "metadata": {},
   "source": [
    "Don't foget to terminate resources after your experiments. "
   ]
  },
  {
   "cell_type": "code",
   "execution_count": null,
   "metadata": {
    "collapsed": true
   },
   "outputs": [],
   "source": [
    "# Clean up volumes"
   ]
  }
 ],
 "metadata": {
  "kernelspec": {
   "display_name": "Python 3",
   "language": "python",
   "name": "python3"
  },
  "language_info": {
   "codemirror_mode": {
    "name": "ipython",
    "version": 3
   },
   "file_extension": ".py",
   "mimetype": "text/x-python",
   "name": "python",
   "nbconvert_exporter": "python",
   "pygments_lexer": "ipython3",
   "version": "3.6.9"
  }
 },
 "nbformat": 4,
 "nbformat_minor": 1
}